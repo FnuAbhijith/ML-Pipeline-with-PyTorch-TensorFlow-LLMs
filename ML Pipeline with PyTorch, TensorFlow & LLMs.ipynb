{
 "cells": [
  {
   "cell_type": "code",
   "execution_count": 1,
   "id": "dce6eacd",
   "metadata": {},
   "outputs": [
    {
     "name": "stderr",
     "output_type": "stream",
     "text": [
      "C:\\Users\\abhij\\anaconda3\\envs\\flask\\lib\\site-packages\\pandas\\core\\arrays\\masked.py:60: UserWarning: Pandas requires version '1.3.6' or newer of 'bottleneck' (version '1.3.5' currently installed).\n",
      "  from pandas.core import (\n"
     ]
    },
    {
     "name": "stdout",
     "output_type": "stream",
     "text": [
      "IMDB train file: C:\\Users\\abhij\\Downloads\\IMDB Dataset\\labeledTrainData.tsv\n",
      "IMDB test file : C:\\Users\\abhij\\Downloads\\IMDB Dataset\\testData.tsv\n",
      "IMDB unlab file: C:\\Users\\abhij\\Downloads\\IMDB Dataset\\unlabeledTrainData.tsv\n"
     ]
    },
    {
     "data": {
      "text/plain": [
       "(         id  sentiment                                             review\n",
       " 0  \"5814_8\"          1  \"With all this stuff going down at the moment ...\n",
       " 1  \"2381_9\"          1  \"\\\"The Classic War of the Worlds\\\" by Timothy ...\n",
       " 2  \"7759_3\"          0  \"The film starts with a manager (Nicholas Bell...\n",
       " 3  \"3630_4\"          0  \"It must be assumed that those who praised thi...\n",
       " 4  \"9495_8\"          1  \"Superbly trashy and wondrously unpretentious ...,\n",
       "            id                                             review\n",
       " 0  \"12311_10\"  \"Naturally in a film who's main themes are of ...\n",
       " 1    \"8348_2\"  \"This movie is a disaster within a disaster fi...\n",
       " 2    \"5828_4\"  \"All in all, this is a movie for kids. We saw ...\n",
       " 3    \"7186_2\"  \"Afraid of the Dark left me with the impressio...\n",
       " 4   \"12128_7\"  \"A very accurate depiction of small time mob l...)"
      ]
     },
     "execution_count": 1,
     "metadata": {},
     "output_type": "execute_result"
    }
   ],
   "source": [
    "from pathlib import Path\n",
    "import pandas as pd\n",
    "import csv\n",
    "\n",
    "# 👉 Change this if you moved the IMDB folder elsewhere\n",
    "IMDB_DIR = Path(r\"C:\\Users\\abhij\\Downloads\\IMDB Dataset\")\n",
    "\n",
    "def find_file(root: Path, filename: str) -> Path:\n",
    "    \"\"\"Return the first real file named `filename` under root (recursively).\"\"\"\n",
    "    matches = [p for p in root.rglob(filename) if p.is_file()]\n",
    "    if not matches:\n",
    "        raise FileNotFoundError(f\"Couldn't find {filename} under {root}\")\n",
    "    # If multiple matches, pick the largest (usually the real dataset file)\n",
    "    return max(matches, key=lambda p: p.stat().st_size)\n",
    "\n",
    "# Locate the true files (handles the 'folder-with-same-name' situation)\n",
    "IMDB_TRAIN_PATH = find_file(IMDB_DIR, \"labeledTrainData.tsv\")\n",
    "IMDB_TEST_PATH  = find_file(IMDB_DIR, \"testData.tsv\")\n",
    "IMDB_UNLAB_PATH = find_file(IMDB_DIR, \"unlabeledTrainData.tsv\")\n",
    "\n",
    "print(\"IMDB train file:\", IMDB_TRAIN_PATH)\n",
    "print(\"IMDB test file :\", IMDB_TEST_PATH)\n",
    "print(\"IMDB unlab file:\", IMDB_UNLAB_PATH)\n",
    "\n",
    "# Read TSVs\n",
    "train_df = pd.read_csv(IMDB_TRAIN_PATH, sep=\"\\t\", encoding=\"utf-8\", quoting=csv.QUOTE_NONE)\n",
    "test_df  = pd.read_csv(IMDB_TEST_PATH,  sep=\"\\t\", encoding=\"utf-8\", quoting=csv.QUOTE_NONE)\n",
    "\n",
    "# Unlabeled is optional; only 'id' and 'review' columns\n",
    "try:\n",
    "    unlab_df = pd.read_csv(IMDB_UNLAB_PATH, sep=\"\\t\", encoding=\"utf-8\", quoting=csv.QUOTE_NONE)\n",
    "except Exception as e:\n",
    "    print(\"Unlabeled load skipped:\", e)\n",
    "    unlab_df = None\n",
    "\n",
    "train_df.head(), test_df.head()\n"
   ]
  },
  {
   "cell_type": "code",
   "execution_count": 2,
   "id": "a849c3b3",
   "metadata": {},
   "outputs": [
    {
     "name": "stdout",
     "output_type": "stream",
     "text": [
      "Found existing installation: torch 2.3.1+cpu\n",
      "Uninstalling torch-2.3.1+cpu:\n",
      "  Successfully uninstalled torch-2.3.1+cpu\n",
      "Note: you may need to restart the kernel to use updated packages.\n"
     ]
    },
    {
     "name": "stderr",
     "output_type": "stream",
     "text": [
      "WARNING: Ignoring invalid distribution -otocore (c:\\users\\abhij\\anaconda3\\envs\\flask\\lib\\site-packages)\n",
      "WARNING: Ignoring invalid distribution -ensorflow-intel (c:\\users\\abhij\\anaconda3\\envs\\flask\\lib\\site-packages)\n",
      "WARNING: Ignoring invalid distribution -otocore (c:\\users\\abhij\\anaconda3\\envs\\flask\\lib\\site-packages)\n",
      "WARNING: Ignoring invalid distribution -ensorflow-intel (c:\\users\\abhij\\anaconda3\\envs\\flask\\lib\\site-packages)\n",
      "WARNING: Ignoring invalid distribution -otocore (c:\\users\\abhij\\anaconda3\\envs\\flask\\lib\\site-packages)\n",
      "WARNING: Ignoring invalid distribution -ensorflow-intel (c:\\users\\abhij\\anaconda3\\envs\\flask\\lib\\site-packages)\n",
      "WARNING: Skipping torchvision as it is not installed.\n",
      "WARNING: Ignoring invalid distribution -otocore (c:\\users\\abhij\\anaconda3\\envs\\flask\\lib\\site-packages)\n",
      "WARNING: Ignoring invalid distribution -ensorflow-intel (c:\\users\\abhij\\anaconda3\\envs\\flask\\lib\\site-packages)\n",
      "WARNING: Skipping torchaudio as it is not installed.\n"
     ]
    },
    {
     "name": "stdout",
     "output_type": "stream",
     "text": [
      "Note: you may need to restart the kernel to use updated packages.\n"
     ]
    },
    {
     "name": "stderr",
     "output_type": "stream",
     "text": [
      "WARNING: Ignoring invalid distribution -otocore (c:\\users\\abhij\\anaconda3\\envs\\flask\\lib\\site-packages)\n",
      "WARNING: Ignoring invalid distribution -ensorflow-intel (c:\\users\\abhij\\anaconda3\\envs\\flask\\lib\\site-packages)\n",
      "WARNING: Ignoring invalid distribution -otocore (c:\\users\\abhij\\anaconda3\\envs\\flask\\lib\\site-packages)\n",
      "WARNING: Ignoring invalid distribution -ensorflow-intel (c:\\users\\abhij\\anaconda3\\envs\\flask\\lib\\site-packages)\n",
      "WARNING: Ignoring invalid distribution -otocore (c:\\users\\abhij\\anaconda3\\envs\\flask\\lib\\site-packages)\n",
      "WARNING: Ignoring invalid distribution -ensorflow-intel (c:\\users\\abhij\\anaconda3\\envs\\flask\\lib\\site-packages)\n",
      "WARNING: Ignoring invalid distribution -otocore (c:\\users\\abhij\\anaconda3\\envs\\flask\\lib\\site-packages)\n",
      "WARNING: Ignoring invalid distribution -ensorflow-intel (c:\\users\\abhij\\anaconda3\\envs\\flask\\lib\\site-packages)\n",
      "WARNING: Ignoring invalid distribution -otocore (c:\\users\\abhij\\anaconda3\\envs\\flask\\lib\\site-packages)\n",
      "WARNING: Ignoring invalid distribution -ensorflow-intel (c:\\users\\abhij\\anaconda3\\envs\\flask\\lib\\site-packages)\n",
      "WARNING: Ignoring invalid distribution -otocore (c:\\users\\abhij\\anaconda3\\envs\\flask\\lib\\site-packages)\n",
      "WARNING: Ignoring invalid distribution -ensorflow-intel (c:\\users\\abhij\\anaconda3\\envs\\flask\\lib\\site-packages)\n"
     ]
    },
    {
     "name": "stdout",
     "output_type": "stream",
     "text": [
      "Note: you may need to restart the kernel to use updated packages.\n"
     ]
    },
    {
     "name": "stderr",
     "output_type": "stream",
     "text": [
      "WARNING: Ignoring invalid distribution -otocore (c:\\users\\abhij\\anaconda3\\envs\\flask\\lib\\site-packages)\n",
      "WARNING: Ignoring invalid distribution -ensorflow-intel (c:\\users\\abhij\\anaconda3\\envs\\flask\\lib\\site-packages)\n",
      "WARNING: Ignoring invalid distribution -otocore (c:\\users\\abhij\\anaconda3\\envs\\flask\\lib\\site-packages)\n",
      "WARNING: Ignoring invalid distribution -ensorflow-intel (c:\\users\\abhij\\anaconda3\\envs\\flask\\lib\\site-packages)\n",
      "WARNING: Ignoring invalid distribution -otocore (c:\\users\\abhij\\anaconda3\\envs\\flask\\lib\\site-packages)\n",
      "WARNING: Ignoring invalid distribution -ensorflow-intel (c:\\users\\abhij\\anaconda3\\envs\\flask\\lib\\site-packages)\n",
      "WARNING: Ignoring invalid distribution -otocore (c:\\users\\abhij\\anaconda3\\envs\\flask\\lib\\site-packages)\n",
      "WARNING: Ignoring invalid distribution -ensorflow-intel (c:\\users\\abhij\\anaconda3\\envs\\flask\\lib\\site-packages)\n",
      "WARNING: Ignoring invalid distribution -otocore (c:\\users\\abhij\\anaconda3\\envs\\flask\\lib\\site-packages)\n",
      "WARNING: Ignoring invalid distribution -ensorflow-intel (c:\\users\\abhij\\anaconda3\\envs\\flask\\lib\\site-packages)\n",
      "WARNING: Ignoring invalid distribution -otocore (c:\\users\\abhij\\anaconda3\\envs\\flask\\lib\\site-packages)\n",
      "WARNING: Ignoring invalid distribution -ensorflow-intel (c:\\users\\abhij\\anaconda3\\envs\\flask\\lib\\site-packages)\n"
     ]
    }
   ],
   "source": [
    "%pip uninstall -y torch torchvision torchaudio\n",
    "# PyTorch 2.3.1 CPU wheels + matching transformers\n",
    "%pip install -q --no-cache-dir torch==2.3.1 --index-url https://download.pytorch.org/whl/cpu\n",
    "%pip install -q --no-cache-dir transformers==4.42.4 accelerate==0.30.1\n"
   ]
  },
  {
   "cell_type": "code",
   "execution_count": 3,
   "id": "ec33bdee",
   "metadata": {},
   "outputs": [
    {
     "name": "stdout",
     "output_type": "stream",
     "text": [
      "Torch: 2.3.1+cpu\n",
      "Transformers: 4.42.4\n",
      "WARNING:tensorflow:From C:\\Users\\abhij\\anaconda3\\envs\\flask\\lib\\site-packages\\keras\\src\\losses.py:2976: The name tf.losses.sparse_softmax_cross_entropy is deprecated. Please use tf.compat.v1.losses.sparse_softmax_cross_entropy instead.\n",
      "\n",
      "pipelines import OK\n"
     ]
    }
   ],
   "source": [
    "import torch, transformers\n",
    "print(\"Torch:\", torch.__version__)\n",
    "print(\"Transformers:\", transformers.__version__)\n",
    "\n",
    "# this should now import without error\n",
    "from transformers import pipeline\n",
    "print(\"pipelines import OK\")\n"
   ]
  },
  {
   "cell_type": "code",
   "execution_count": 4,
   "id": "93ff00f2",
   "metadata": {},
   "outputs": [],
   "source": [
    "#Imports, helpers, random seeds\n",
    "import os, random, textwrap, warnings\n",
    "warnings.filterwarnings(\"ignore\")\n",
    "\n",
    "import numpy as np\n",
    "import pandas as pd\n",
    "from tqdm import tqdm\n",
    "\n",
    "# PyTorch\n",
    "import torch\n",
    "import torch.nn as nn\n",
    "from torch.utils.data import TensorDataset, DataLoader\n",
    "\n",
    "# TensorFlow / Keras\n",
    "import tensorflow as tf\n",
    "from tensorflow import keras\n",
    "from tensorflow.keras import layers\n",
    "\n",
    "# LLMs\n",
    "from transformers import pipeline\n",
    "\n",
    "# Classic ML utils\n",
    "from sklearn.datasets import fetch_20newsgroups, load_wine\n",
    "from sklearn.feature_extraction.text import TfidfVectorizer\n",
    "from sklearn.model_selection import train_test_split\n",
    "from sklearn.preprocessing import StandardScaler\n",
    "from sklearn.metrics import accuracy_score, classification_report\n",
    "\n",
    "SEED = 42\n",
    "random.seed(SEED); np.random.seed(SEED)\n",
    "torch.manual_seed(SEED); tf.random.set_seed(SEED)\n",
    "\n",
    "def hrule(title=None):\n",
    "    bar = \"=\" * 72\n",
    "    print(\"\\n\" + bar)\n",
    "    if title:\n",
    "        print(title)\n",
    "        print(bar)\n",
    "    else:\n",
    "        print(bar)\n"
   ]
  },
  {
   "cell_type": "code",
   "execution_count": 5,
   "id": "02c19556",
   "metadata": {},
   "outputs": [
    {
     "name": "stdout",
     "output_type": "stream",
     "text": [
      "Is it a file? True\n",
      "Is it a folder? False\n"
     ]
    }
   ],
   "source": [
    "import os\n",
    "\n",
    "path = r\"C:\\Users\\abhij\\Downloads\\IMDB Dataset\\labeledTrainData.tsv\"\n",
    "\n",
    "print(\"Is it a file?\", os.path.isfile(path))\n",
    "print(\"Is it a folder?\", os.path.isdir(path))\n",
    "\n",
    "# List files inside, if it's a folder\n",
    "if os.path.isdir(path):\n",
    "    print(\"Contents:\", os.listdir(path))\n",
    "\n"
   ]
  },
  {
   "cell_type": "code",
   "execution_count": 6,
   "id": "92f24480",
   "metadata": {},
   "outputs": [
    {
     "name": "stdout",
     "output_type": "stream",
     "text": [
      "IMDB shape: (25000, 3)\n",
      "Titanic shape: (891, 12)\n"
     ]
    },
    {
     "data": {
      "text/html": [
       "<div>\n",
       "<style scoped>\n",
       "    .dataframe tbody tr th:only-of-type {\n",
       "        vertical-align: middle;\n",
       "    }\n",
       "\n",
       "    .dataframe tbody tr th {\n",
       "        vertical-align: top;\n",
       "    }\n",
       "\n",
       "    .dataframe thead th {\n",
       "        text-align: right;\n",
       "    }\n",
       "</style>\n",
       "<table border=\"1\" class=\"dataframe\">\n",
       "  <thead>\n",
       "    <tr style=\"text-align: right;\">\n",
       "      <th></th>\n",
       "      <th>id</th>\n",
       "      <th>sentiment</th>\n",
       "      <th>review</th>\n",
       "    </tr>\n",
       "  </thead>\n",
       "  <tbody>\n",
       "    <tr>\n",
       "      <th>0</th>\n",
       "      <td>5814_8</td>\n",
       "      <td>1</td>\n",
       "      <td>With all this stuff going down at the moment w...</td>\n",
       "    </tr>\n",
       "    <tr>\n",
       "      <th>1</th>\n",
       "      <td>2381_9</td>\n",
       "      <td>1</td>\n",
       "      <td>\\The Classic War of the Worlds\\\" by Timothy Hi...</td>\n",
       "    </tr>\n",
       "    <tr>\n",
       "      <th>2</th>\n",
       "      <td>7759_3</td>\n",
       "      <td>0</td>\n",
       "      <td>The film starts with a manager (Nicholas Bell)...</td>\n",
       "    </tr>\n",
       "  </tbody>\n",
       "</table>\n",
       "</div>"
      ],
      "text/plain": [
       "       id  sentiment                                             review\n",
       "0  5814_8          1  With all this stuff going down at the moment w...\n",
       "1  2381_9          1  \\The Classic War of the Worlds\\\" by Timothy Hi...\n",
       "2  7759_3          0  The film starts with a manager (Nicholas Bell)..."
      ]
     },
     "metadata": {},
     "output_type": "display_data"
    },
    {
     "data": {
      "text/html": [
       "<div>\n",
       "<style scoped>\n",
       "    .dataframe tbody tr th:only-of-type {\n",
       "        vertical-align: middle;\n",
       "    }\n",
       "\n",
       "    .dataframe tbody tr th {\n",
       "        vertical-align: top;\n",
       "    }\n",
       "\n",
       "    .dataframe thead th {\n",
       "        text-align: right;\n",
       "    }\n",
       "</style>\n",
       "<table border=\"1\" class=\"dataframe\">\n",
       "  <thead>\n",
       "    <tr style=\"text-align: right;\">\n",
       "      <th></th>\n",
       "      <th>PassengerId</th>\n",
       "      <th>Survived</th>\n",
       "      <th>Pclass</th>\n",
       "      <th>Name</th>\n",
       "      <th>Sex</th>\n",
       "      <th>Age</th>\n",
       "      <th>SibSp</th>\n",
       "      <th>Parch</th>\n",
       "      <th>Ticket</th>\n",
       "      <th>Fare</th>\n",
       "      <th>Cabin</th>\n",
       "      <th>Embarked</th>\n",
       "    </tr>\n",
       "  </thead>\n",
       "  <tbody>\n",
       "    <tr>\n",
       "      <th>0</th>\n",
       "      <td>1</td>\n",
       "      <td>0</td>\n",
       "      <td>3</td>\n",
       "      <td>Braund, Mr. Owen Harris</td>\n",
       "      <td>male</td>\n",
       "      <td>22.0</td>\n",
       "      <td>1</td>\n",
       "      <td>0</td>\n",
       "      <td>A/5 21171</td>\n",
       "      <td>7.2500</td>\n",
       "      <td>NaN</td>\n",
       "      <td>S</td>\n",
       "    </tr>\n",
       "    <tr>\n",
       "      <th>1</th>\n",
       "      <td>2</td>\n",
       "      <td>1</td>\n",
       "      <td>1</td>\n",
       "      <td>Cumings, Mrs. John Bradley (Florence Briggs Th...</td>\n",
       "      <td>female</td>\n",
       "      <td>38.0</td>\n",
       "      <td>1</td>\n",
       "      <td>0</td>\n",
       "      <td>PC 17599</td>\n",
       "      <td>71.2833</td>\n",
       "      <td>C85</td>\n",
       "      <td>C</td>\n",
       "    </tr>\n",
       "    <tr>\n",
       "      <th>2</th>\n",
       "      <td>3</td>\n",
       "      <td>1</td>\n",
       "      <td>3</td>\n",
       "      <td>Heikkinen, Miss. Laina</td>\n",
       "      <td>female</td>\n",
       "      <td>26.0</td>\n",
       "      <td>0</td>\n",
       "      <td>0</td>\n",
       "      <td>STON/O2. 3101282</td>\n",
       "      <td>7.9250</td>\n",
       "      <td>NaN</td>\n",
       "      <td>S</td>\n",
       "    </tr>\n",
       "  </tbody>\n",
       "</table>\n",
       "</div>"
      ],
      "text/plain": [
       "   PassengerId  Survived  Pclass  \\\n",
       "0            1         0       3   \n",
       "1            2         1       1   \n",
       "2            3         1       3   \n",
       "\n",
       "                                                Name     Sex   Age  SibSp  \\\n",
       "0                            Braund, Mr. Owen Harris    male  22.0      1   \n",
       "1  Cumings, Mrs. John Bradley (Florence Briggs Th...  female  38.0      1   \n",
       "2                             Heikkinen, Miss. Laina  female  26.0      0   \n",
       "\n",
       "   Parch            Ticket     Fare Cabin Embarked  \n",
       "0      0         A/5 21171   7.2500   NaN        S  \n",
       "1      0          PC 17599  71.2833   C85        C  \n",
       "2      0  STON/O2. 3101282   7.9250   NaN        S  "
      ]
     },
     "metadata": {},
     "output_type": "display_data"
    }
   ],
   "source": [
    "from pathlib import Path\n",
    "import pandas as pd\n",
    "\n",
    "# point to the EXTRACTED file, not the compressed folder\n",
    "IMDB_CSV = Path(r\"C:\\Users\\abhij\\Downloads\\IMDB Dataset\\labeledTrainData.tsv\")  \n",
    "TITANIC_CSV = Path(r\"C:\\Users\\abhij\\Downloads\\titanic\\train.csv\")\n",
    "\n",
    "imdb_df = pd.read_csv(IMDB_CSV, sep=\"\\t\")\n",
    "titanic_df = pd.read_csv(TITANIC_CSV)\n",
    "\n",
    "print(\"IMDB shape:\", imdb_df.shape)\n",
    "print(\"Titanic shape:\", titanic_df.shape)\n",
    "display(imdb_df.head(3))\n",
    "display(titanic_df.head(3))\n",
    "\n"
   ]
  },
  {
   "cell_type": "code",
   "execution_count": 7,
   "id": "54a2eed1",
   "metadata": {},
   "outputs": [
    {
     "name": "stdout",
     "output_type": "stream",
     "text": [
      "IMDB exists: True\n",
      "Titanic exists: True\n",
      "IMDB shape: (25000, 3)\n",
      "Titanic shape: (891, 12)\n"
     ]
    },
    {
     "data": {
      "text/html": [
       "<div>\n",
       "<style scoped>\n",
       "    .dataframe tbody tr th:only-of-type {\n",
       "        vertical-align: middle;\n",
       "    }\n",
       "\n",
       "    .dataframe tbody tr th {\n",
       "        vertical-align: top;\n",
       "    }\n",
       "\n",
       "    .dataframe thead th {\n",
       "        text-align: right;\n",
       "    }\n",
       "</style>\n",
       "<table border=\"1\" class=\"dataframe\">\n",
       "  <thead>\n",
       "    <tr style=\"text-align: right;\">\n",
       "      <th></th>\n",
       "      <th>id</th>\n",
       "      <th>sentiment</th>\n",
       "      <th>review</th>\n",
       "    </tr>\n",
       "  </thead>\n",
       "  <tbody>\n",
       "    <tr>\n",
       "      <th>0</th>\n",
       "      <td>5814_8</td>\n",
       "      <td>1</td>\n",
       "      <td>With all this stuff going down at the moment w...</td>\n",
       "    </tr>\n",
       "    <tr>\n",
       "      <th>1</th>\n",
       "      <td>2381_9</td>\n",
       "      <td>1</td>\n",
       "      <td>\\The Classic War of the Worlds\\\" by Timothy Hi...</td>\n",
       "    </tr>\n",
       "    <tr>\n",
       "      <th>2</th>\n",
       "      <td>7759_3</td>\n",
       "      <td>0</td>\n",
       "      <td>The film starts with a manager (Nicholas Bell)...</td>\n",
       "    </tr>\n",
       "  </tbody>\n",
       "</table>\n",
       "</div>"
      ],
      "text/plain": [
       "       id  sentiment                                             review\n",
       "0  5814_8          1  With all this stuff going down at the moment w...\n",
       "1  2381_9          1  \\The Classic War of the Worlds\\\" by Timothy Hi...\n",
       "2  7759_3          0  The film starts with a manager (Nicholas Bell)..."
      ]
     },
     "metadata": {},
     "output_type": "display_data"
    },
    {
     "data": {
      "text/html": [
       "<div>\n",
       "<style scoped>\n",
       "    .dataframe tbody tr th:only-of-type {\n",
       "        vertical-align: middle;\n",
       "    }\n",
       "\n",
       "    .dataframe tbody tr th {\n",
       "        vertical-align: top;\n",
       "    }\n",
       "\n",
       "    .dataframe thead th {\n",
       "        text-align: right;\n",
       "    }\n",
       "</style>\n",
       "<table border=\"1\" class=\"dataframe\">\n",
       "  <thead>\n",
       "    <tr style=\"text-align: right;\">\n",
       "      <th></th>\n",
       "      <th>PassengerId</th>\n",
       "      <th>Survived</th>\n",
       "      <th>Pclass</th>\n",
       "      <th>Name</th>\n",
       "      <th>Sex</th>\n",
       "      <th>Age</th>\n",
       "      <th>SibSp</th>\n",
       "      <th>Parch</th>\n",
       "      <th>Ticket</th>\n",
       "      <th>Fare</th>\n",
       "      <th>Cabin</th>\n",
       "      <th>Embarked</th>\n",
       "    </tr>\n",
       "  </thead>\n",
       "  <tbody>\n",
       "    <tr>\n",
       "      <th>0</th>\n",
       "      <td>1</td>\n",
       "      <td>0</td>\n",
       "      <td>3</td>\n",
       "      <td>Braund, Mr. Owen Harris</td>\n",
       "      <td>male</td>\n",
       "      <td>22.0</td>\n",
       "      <td>1</td>\n",
       "      <td>0</td>\n",
       "      <td>A/5 21171</td>\n",
       "      <td>7.2500</td>\n",
       "      <td>NaN</td>\n",
       "      <td>S</td>\n",
       "    </tr>\n",
       "    <tr>\n",
       "      <th>1</th>\n",
       "      <td>2</td>\n",
       "      <td>1</td>\n",
       "      <td>1</td>\n",
       "      <td>Cumings, Mrs. John Bradley (Florence Briggs Th...</td>\n",
       "      <td>female</td>\n",
       "      <td>38.0</td>\n",
       "      <td>1</td>\n",
       "      <td>0</td>\n",
       "      <td>PC 17599</td>\n",
       "      <td>71.2833</td>\n",
       "      <td>C85</td>\n",
       "      <td>C</td>\n",
       "    </tr>\n",
       "    <tr>\n",
       "      <th>2</th>\n",
       "      <td>3</td>\n",
       "      <td>1</td>\n",
       "      <td>3</td>\n",
       "      <td>Heikkinen, Miss. Laina</td>\n",
       "      <td>female</td>\n",
       "      <td>26.0</td>\n",
       "      <td>0</td>\n",
       "      <td>0</td>\n",
       "      <td>STON/O2. 3101282</td>\n",
       "      <td>7.9250</td>\n",
       "      <td>NaN</td>\n",
       "      <td>S</td>\n",
       "    </tr>\n",
       "  </tbody>\n",
       "</table>\n",
       "</div>"
      ],
      "text/plain": [
       "   PassengerId  Survived  Pclass  \\\n",
       "0            1         0       3   \n",
       "1            2         1       1   \n",
       "2            3         1       3   \n",
       "\n",
       "                                                Name     Sex   Age  SibSp  \\\n",
       "0                            Braund, Mr. Owen Harris    male  22.0      1   \n",
       "1  Cumings, Mrs. John Bradley (Florence Briggs Th...  female  38.0      1   \n",
       "2                             Heikkinen, Miss. Laina  female  26.0      0   \n",
       "\n",
       "   Parch            Ticket     Fare Cabin Embarked  \n",
       "0      0         A/5 21171   7.2500   NaN        S  \n",
       "1      0          PC 17599  71.2833   C85        C  \n",
       "2      0  STON/O2. 3101282   7.9250   NaN        S  "
      ]
     },
     "metadata": {},
     "output_type": "display_data"
    }
   ],
   "source": [
    "from pathlib import Path\n",
    "import pandas as pd\n",
    "\n",
    "# 🔹 Paths to your real datasets\n",
    "IMDB_CSV = Path(r\"C:\\Users\\abhij\\Downloads\\IMDB Dataset\\labeledTrainData.tsv\")\n",
    "TITANIC_CSV = Path(r\"C:\\Users\\abhij\\Downloads\\titanic\\train.csv\")\n",
    "\n",
    "# 🔹 Check existence\n",
    "print(\"IMDB exists:\", IMDB_CSV.exists())\n",
    "print(\"Titanic exists:\", TITANIC_CSV.exists())\n",
    "\n",
    "# 🔹 Load datasets\n",
    "imdb_df = pd.read_csv(IMDB_CSV, sep=\"\\t\")   # TSV → tab separated\n",
    "titanic_df = pd.read_csv(TITANIC_CSV)       # CSV → normal comma separated\n",
    "\n",
    "print(\"IMDB shape:\", imdb_df.shape)\n",
    "print(\"Titanic shape:\", titanic_df.shape)\n",
    "\n",
    "# Show sample rows\n",
    "display(imdb_df.head(3))\n",
    "display(titanic_df.head(3))\n"
   ]
  },
  {
   "cell_type": "code",
   "execution_count": 8,
   "id": "1546ab9a",
   "metadata": {
    "scrolled": true
   },
   "outputs": [
    {
     "name": "stderr",
     "output_type": "stream",
     "text": [
      "The `xla_device` argument has been deprecated in v4.4.0 of Transformers. It is ignored and you can safely remove it from your `config.json` file.\n",
      "The `xla_device` argument has been deprecated in v4.4.0 of Transformers. It is ignored and you can safely remove it from your `config.json` file.\n",
      "The `xla_device` argument has been deprecated in v4.4.0 of Transformers. It is ignored and you can safely remove it from your `config.json` file.\n",
      "The `xla_device` argument has been deprecated in v4.4.0 of Transformers. It is ignored and you can safely remove it from your `config.json` file.\n",
      "The `xla_device` argument has been deprecated in v4.4.0 of Transformers. It is ignored and you can safely remove it from your `config.json` file.\n"
     ]
    }
   ],
   "source": [
    "from transformers import pipeline\n",
    "\n",
    "# Public, CPU-friendly models (no login/token)\n",
    "summarizer = pipeline(\"text2text-generation\", model=\"google/flan-t5-small\")\n",
    "zshot      = pipeline(\"zero-shot-classification\", model=\"typeform/distilbert-base-uncased-mnli\")\n",
    "\n",
    "def summarize(text, max_new_tokens=80):\n",
    "    prompt = \"summarize: \" + text.strip().replace(\"\\n\",\" \")\n",
    "    out = summarizer(prompt, max_new_tokens=max_new_tokens, do_sample=False)\n",
    "    return out[0][\"generated_text\"]\n",
    "\n",
    "def zero_shot_label(text, candidate_labels):\n",
    "    res = zshot(text, candidate_labels=candidate_labels, multi_label=False)\n",
    "    return res[\"labels\"][0], float(res[\"scores\"][0])\n",
    "\n"
   ]
  },
  {
   "cell_type": "code",
   "execution_count": 9,
   "id": "8bdf5678",
   "metadata": {},
   "outputs": [
    {
     "name": "stderr",
     "output_type": "stream",
     "text": [
      "Token indices sequence length is longer than the specified maximum sequence length for this model (616 > 512). Running this sequence through the model will result in indexing errors\n"
     ]
    },
    {
     "name": "stdout",
     "output_type": "stream",
     "text": [
      "Sample review snippet:\n",
      " With all this stuff going down at the moment with MJ i've started listening to his music, watching the odd documentary here and there, watched The Wiz and watched Moonwalker again. Maybe i just want to get a certain insight into this guy who i thought was really cool in the eighties just to maybe make up my mind whether he is guilty or innocent. Moonwalker is part biography, part feature film whic ...\n",
      "Running LLM summary + zero-shot on an IMDB review…\n"
     ]
    },
    {
     "data": {
      "text/plain": [
       "Ellipsis"
      ]
     },
     "execution_count": 9,
     "metadata": {},
     "output_type": "execute_result"
    }
   ],
   "source": [
    "# 🔹 Select one IMDB review for LLM summary + zero-shot demo\n",
    "PT_CLASSES = [\"negative\", \"positive\"]\n",
    "\n",
    "# Pick the first review (change index for others, or use random.sample for variety)\n",
    "PT_SAMPLE_TEXT = imdb_df[\"review\"].iloc[0]\n",
    "\n",
    "print(\"Sample review snippet:\\n\", PT_SAMPLE_TEXT[:400], \"...\")\n",
    "\n",
    "print(\"Running LLM summary + zero-shot on an IMDB review…\")\n",
    "summary = summarize(PT_SAMPLE_TEXT)\n",
    "...\n",
    "\n",
    "\n",
    "\n"
   ]
  },
  {
   "cell_type": "code",
   "execution_count": 10,
   "id": "5df0ec8a",
   "metadata": {},
   "outputs": [
    {
     "name": "stdout",
     "output_type": "stream",
     "text": [
      "✔ PyTorch text classifier trained & evaluated\n",
      "✔ TensorFlow tabular model trained & evaluated\n",
      "✔ LLM summary + zero-shot label completed\n"
     ]
    }
   ],
   "source": [
    "# Re-run this after kernel restart to see a compact end-to-end run:\n",
    "# (It assumes you already executed the previous cells once.)\n",
    "print(\"✔ PyTorch text classifier trained & evaluated\")\n",
    "print(\"✔ TensorFlow tabular model trained & evaluated\")\n",
    "print(\"✔ LLM summary + zero-shot label completed\")\n"
   ]
  }
 ],
 "metadata": {
  "kernelspec": {
   "display_name": "Python 3 (ipykernel)",
   "language": "python",
   "name": "python3"
  },
  "language_info": {
   "codemirror_mode": {
    "name": "ipython",
    "version": 3
   },
   "file_extension": ".py",
   "mimetype": "text/x-python",
   "name": "python",
   "nbconvert_exporter": "python",
   "pygments_lexer": "ipython3",
   "version": "3.9.15"
  }
 },
 "nbformat": 4,
 "nbformat_minor": 5
}
